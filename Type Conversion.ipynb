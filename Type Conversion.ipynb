{
 "cells": [
  {
   "cell_type": "code",
   "execution_count": 1,
   "id": "71c86911-c66c-4dcb-97ff-14527d72078e",
   "metadata": {},
   "outputs": [
    {
     "data": {
      "text/plain": [
       "int"
      ]
     },
     "execution_count": 1,
     "metadata": {},
     "output_type": "execute_result"
    }
   ],
   "source": [
    "#Convert an integer to a floating-point number.\n",
    "a = 10\n",
    "type(a)"
   ]
  },
  {
   "cell_type": "code",
   "execution_count": 7,
   "id": "27766d98-85fc-4c7f-880d-f224406f7d6e",
   "metadata": {},
   "outputs": [
    {
     "data": {
      "text/plain": [
       "10.0"
      ]
     },
     "execution_count": 7,
     "metadata": {},
     "output_type": "execute_result"
    }
   ],
   "source": [
    "float(a)"
   ]
  },
  {
   "cell_type": "code",
   "execution_count": 15,
   "id": "fe5ca2a2-3007-449c-b674-789ba9533606",
   "metadata": {},
   "outputs": [
    {
     "data": {
      "text/plain": [
       "float"
      ]
     },
     "execution_count": 15,
     "metadata": {},
     "output_type": "execute_result"
    }
   ],
   "source": [
    "#Convert a float to an integer.\n",
    "b = 25.50\n",
    "type(b)"
   ]
  },
  {
   "cell_type": "code",
   "execution_count": 17,
   "id": "9c3b348c-66d9-42cb-a733-72d2de9fc6c0",
   "metadata": {},
   "outputs": [
    {
     "data": {
      "text/plain": [
       "25"
      ]
     },
     "execution_count": 17,
     "metadata": {},
     "output_type": "execute_result"
    }
   ],
   "source": [
    "int(b)"
   ]
  },
  {
   "cell_type": "code",
   "execution_count": 19,
   "id": "0d684d28-05ca-4eb5-adc3-22e7736920d8",
   "metadata": {},
   "outputs": [
    {
     "data": {
      "text/plain": [
       "int"
      ]
     },
     "execution_count": 19,
     "metadata": {},
     "output_type": "execute_result"
    }
   ],
   "source": [
    "#Convert an integer to a string.\n",
    "c = 45\n",
    "type(c)"
   ]
  },
  {
   "cell_type": "code",
   "execution_count": 23,
   "id": "c3b126bd-b7d8-48ca-ac24-89aaad1e93af",
   "metadata": {},
   "outputs": [
    {
     "data": {
      "text/plain": [
       "'45'"
      ]
     },
     "execution_count": 23,
     "metadata": {},
     "output_type": "execute_result"
    }
   ],
   "source": [
    "str(c)"
   ]
  },
  {
   "cell_type": "code",
   "execution_count": 27,
   "id": "2f400e9c-bcfe-414a-9079-150d94dc52d3",
   "metadata": {},
   "outputs": [],
   "source": [
    "#Convert a list to a tuple>> list are mutable means we can edit list's element whereas tuple are im-mutable means we can't edit tuple's element. \n",
    "lis = [10,20.5,\"raj\",True,5+8j]"
   ]
  },
  {
   "cell_type": "code",
   "execution_count": 31,
   "id": "3c968644-0052-4b34-aada-514a07957a21",
   "metadata": {},
   "outputs": [
    {
     "data": {
      "text/plain": [
       "list"
      ]
     },
     "execution_count": 31,
     "metadata": {},
     "output_type": "execute_result"
    }
   ],
   "source": [
    "type(lis)"
   ]
  },
  {
   "cell_type": "code",
   "execution_count": 33,
   "id": "48a14494-c1d8-449c-bf11-61ea02da87ce",
   "metadata": {},
   "outputs": [
    {
     "data": {
      "text/plain": [
       "(10, 20.5, 'raj', True, (5+8j))"
      ]
     },
     "execution_count": 33,
     "metadata": {},
     "output_type": "execute_result"
    }
   ],
   "source": [
    "tuple(lis)"
   ]
  },
  {
   "cell_type": "code",
   "execution_count": 35,
   "id": "7f72538e-e592-4e38-bed3-a4e8d3993bb2",
   "metadata": {},
   "outputs": [],
   "source": [
    "#Convert a tuple to a list.\n",
    "tup = (4,11.8,\"jay\",False,1+4j)"
   ]
  },
  {
   "cell_type": "code",
   "execution_count": 37,
   "id": "11cca923-9525-4a76-b91c-6b3bf8f01eab",
   "metadata": {},
   "outputs": [
    {
     "data": {
      "text/plain": [
       "tuple"
      ]
     },
     "execution_count": 37,
     "metadata": {},
     "output_type": "execute_result"
    }
   ],
   "source": [
    "type(tup)"
   ]
  },
  {
   "cell_type": "code",
   "execution_count": 39,
   "id": "70114267-8006-4a17-b1c0-d80879966bc5",
   "metadata": {},
   "outputs": [
    {
     "data": {
      "text/plain": [
       "[4, 11.8, 'jay', False, (1+4j)]"
      ]
     },
     "execution_count": 39,
     "metadata": {},
     "output_type": "execute_result"
    }
   ],
   "source": [
    "list(tup)"
   ]
  },
  {
   "cell_type": "code",
   "execution_count": 41,
   "id": "364242b7-fe2c-40d9-a2c1-14695b5f9a8f",
   "metadata": {},
   "outputs": [
    {
     "data": {
      "text/plain": [
       "'0b1111'"
      ]
     },
     "execution_count": 41,
     "metadata": {},
     "output_type": "execute_result"
    }
   ],
   "source": [
    "#Convert a decimal number to binary.\n",
    "d = 15\n",
    "bin(d)"
   ]
  },
  {
   "cell_type": "code",
   "execution_count": 43,
   "id": "d77d831d-0714-4eb3-9ef1-ddc3788dde08",
   "metadata": {},
   "outputs": [
    {
     "data": {
      "text/plain": [
       "True"
      ]
     },
     "execution_count": 43,
     "metadata": {},
     "output_type": "execute_result"
    }
   ],
   "source": [
    "#Convert a non-zero number to boolean.\n",
    "no = 1\n",
    "bool(1)"
   ]
  }
 ],
 "metadata": {
  "kernelspec": {
   "display_name": "Python 3 (ipykernel)",
   "language": "python",
   "name": "python3"
  },
  "language_info": {
   "codemirror_mode": {
    "name": "ipython",
    "version": 3
   },
   "file_extension": ".py",
   "mimetype": "text/x-python",
   "name": "python",
   "nbconvert_exporter": "python",
   "pygments_lexer": "ipython3",
   "version": "3.12.4"
  }
 },
 "nbformat": 4,
 "nbformat_minor": 5
}
